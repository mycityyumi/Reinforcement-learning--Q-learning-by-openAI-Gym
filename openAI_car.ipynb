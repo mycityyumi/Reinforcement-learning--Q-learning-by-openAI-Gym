{
 "cells": [
  {
   "cell_type": "code",
   "execution_count": 1,
   "metadata": {},
   "outputs": [
    {
     "name": "stderr",
     "output_type": "stream",
     "text": [
      "c:\\Python36\\lib\\site-packages\\h5py\\__init__.py:36: FutureWarning: Conversion of the second argument of issubdtype from `float` to `np.floating` is deprecated. In future, it will be treated as `np.float64 == np.dtype(float).type`.\n",
      "  from ._conv import register_converters as _register_converters\n"
     ]
    },
    {
     "name": "stdout",
     "output_type": "stream",
     "text": [
      "curses is not supported on this machine (please install/reinstall curses for an optimal experience)\n"
     ]
    }
   ],
   "source": [
    "import gym\n",
    "import random\n",
    "import numpy as np\n",
    "import tflearn\n",
    "from tflearn.layers.core import input_data, dropout, fully_connected\n",
    "from tflearn.layers.estimator import regression\n",
    "from statistics import mean, median\n",
    "from collections import Counter"
   ]
  },
  {
   "cell_type": "code",
   "execution_count": 2,
   "metadata": {},
   "outputs": [
    {
     "name": "stdout",
     "output_type": "stream",
     "text": [
      "\u001b[33mWARN: gym.spaces.Box autodetected dtype as <class 'numpy.float32'>. Please provide explicit dtype.\u001b[0m\n"
     ]
    }
   ],
   "source": [
    "LR = 1e-3\n",
    "env = gym.make('MountainCar-v0')\n",
    "env.reset()\n",
    "goal_steps = 50\n",
    "score_requirement = 50\n",
    "initial_game = 10"
   ]
  },
  {
   "cell_type": "code",
   "execution_count": 3,
   "metadata": {},
   "outputs": [],
   "source": [
    "def some_random_games_first():\n",
    "  for episode in range(5):\n",
    "    env.reset()\n",
    "    for t in range(200):\n",
    "        env.render()\n",
    "        action = env.action_space.sample()\n",
    "        observation, reward, done, info = env.step(action)\n",
    "        print(info)\n",
    "        if done:\n",
    "            break\n",
    "      \n",
    "      \n",
    "      \n",
    "      \n",
    "#some_random_games_first()\n"
   ]
  },
  {
   "cell_type": "code",
   "execution_count": 15,
   "metadata": {},
   "outputs": [],
   "source": [
    "def initial_population():\n",
    "    training_data = []\n",
    "    scores = []\n",
    "    accepted_scores = []\n",
    "    for _ in range(initial_game):\n",
    "        score =0\n",
    "        game_memory = []\n",
    "        prev_observation = []\n",
    "        for _ in range(goal_steps):\n",
    "            action = random.randrange(0,3)\n",
    "            #action = 0 or 1 or 2 \n",
    "            observation, reward, done, info = env.step(action)\n",
    "            # notice that the observation is returned FROM the action\n",
    "            # so we'll store the previous observation here, pairing\n",
    "            # the prev observation to the action we'll take.\n",
    "            if len(prev_observation)>0:\n",
    "                #game_memory save all obersation and action\n",
    "                game_memory.append([prev_observation, action])\n",
    "                #print('prev_observation:',prev_observation,' action:',action)\n",
    "            prev_observation = observation\n",
    "            score +=reward\n",
    "            if done:\n",
    "                break\n",
    "        #if score >= score_requirement:\n",
    "            #accepted_scores just save score above score_requirement\n",
    "            accepted_scores.append(score)\n",
    "            #to change action '1'-->[0,1] or action '0' -->[1,0] for suit with numpy data style\n",
    "            # we change to [0,1] because we also keep 0 or 1, but some game have more action, so we use [0,1]\n",
    "            for data in game_memory:\n",
    "                if data[1]== 0:\n",
    "                    output = [0,0]\n",
    "                if data[1] == 1:\n",
    "                    output = [1,0]\n",
    "                elif data[1] == 2:\n",
    "                    ouput = [1,1]\n",
    "                #saving our traning data\n",
    "                return training_data.append([data[0],output])\n",
    "        env.reset()\n",
    "        #save all score values of each espiso, also counting value not enough for the requirement\n",
    "        scores.append(score)\n",
    "    #just in case you wanted to reference later\n",
    "    training_data_save = np.array(training_data)\n",
    "    print(training_data_save.shape)\n",
    "    np.save('./saved.npy', training_data_save)\n",
    "    \n",
    "    #some stats here,to further illustrate the neural network magic\n",
    "    print('Average accepted score:', mean(accepted_scores))\n",
    "    print('Median score for accepted scores:', median(accepted_scores))\n",
    "    #counter is keep track how many value repeat\n",
    "    print(Counter(accepted_scores))\n",
    "    return training_data\n",
    "initial_population()"
   ]
  },
  {
   "cell_type": "code",
   "execution_count": 16,
   "metadata": {},
   "outputs": [
    {
     "data": {
      "text/plain": [
       "NoneType"
      ]
     },
     "execution_count": 16,
     "metadata": {},
     "output_type": "execute_result"
    }
   ],
   "source": [
    "hihi = initial_population()\n",
    "type(hihi)"
   ]
  },
  {
   "cell_type": "code",
   "execution_count": 6,
   "metadata": {},
   "outputs": [],
   "source": [
    "def neural_network_model(input_size):\n",
    "    #1 in input_size mean just observation source for input \n",
    "    network = input_data(shape=[None, input_size, 1], name='input')\n",
    "    #128 nodes for fisrt layer, each node have activation is relu for linear function\n",
    "    network = fully_connected(network, 128, activation='relu')\n",
    "    #0.8 is keep rate\n",
    "    network = dropout(network, 0.8)\n",
    "    #seconde layer\n",
    "    network = fully_connected(network, 256, activation='relu')\n",
    "    network = dropout(network, 0.8)\n",
    "\n",
    "    network = fully_connected(network, 512, activation='relu')\n",
    "    network = dropout(network, 0.8)\n",
    "    \n",
    "    network = fully_connected(network, 256, activation='relu')\n",
    "    network = dropout(network, 0.8)\n",
    "\n",
    "    network = fully_connected(network, 128, activation='relu')\n",
    "    network = dropout(network, 0.8)\n",
    "\n",
    "    network = fully_connected(network, 2, activation='softmax')\n",
    "    network = regression(network, optimizer='adam', learning_rate=LR, loss='categorical_crossentropy', name='targets')\n",
    "    model = tflearn.DNN(network, tensorboard_dir='log')\n",
    "    #sometimes have out of memony, so just change number of layer\n",
    "    return model\n"
   ]
  },
  {
   "cell_type": "code",
   "execution_count": 7,
   "metadata": {},
   "outputs": [
    {
     "ename": "UnboundLocalError",
     "evalue": "local variable 'output' referenced before assignment",
     "output_type": "error",
     "traceback": [
      "\u001b[1;31m---------------------------------------------------------------------------\u001b[0m",
      "\u001b[1;31mUnboundLocalError\u001b[0m                         Traceback (most recent call last)",
      "\u001b[1;32m<ipython-input-7-64b9d41a0842>\u001b[0m in \u001b[0;36m<module>\u001b[1;34m()\u001b[0m\n\u001b[0;32m     16\u001b[0m     \u001b[1;31m#snapshot_step mean how much step trained will print out the screen\u001b[0m\u001b[1;33m\u001b[0m\u001b[1;33m\u001b[0m\u001b[0m\n\u001b[0;32m     17\u001b[0m     \u001b[1;32mreturn\u001b[0m \u001b[0mmodel\u001b[0m\u001b[1;33m\u001b[0m\u001b[0m\n\u001b[1;32m---> 18\u001b[1;33m \u001b[0mtraining_data\u001b[0m \u001b[1;33m=\u001b[0m \u001b[0minitial_population\u001b[0m\u001b[1;33m(\u001b[0m\u001b[1;33m)\u001b[0m\u001b[1;33m\u001b[0m\u001b[0m\n\u001b[0m\u001b[0;32m     19\u001b[0m \u001b[0mmodel\u001b[0m \u001b[1;33m=\u001b[0m \u001b[0mtrain_model\u001b[0m\u001b[1;33m(\u001b[0m\u001b[0mtraining_data\u001b[0m\u001b[1;33m)\u001b[0m\u001b[1;33m\u001b[0m\u001b[0m\n",
      "\u001b[1;32m<ipython-input-4-06dece30045a>\u001b[0m in \u001b[0;36minitial_population\u001b[1;34m()\u001b[0m\n\u001b[0;32m     35\u001b[0m                     \u001b[0mouput\u001b[0m \u001b[1;33m=\u001b[0m \u001b[1;33m[\u001b[0m\u001b[1;36m1\u001b[0m\u001b[1;33m,\u001b[0m\u001b[1;36m1\u001b[0m\u001b[1;33m]\u001b[0m\u001b[1;33m\u001b[0m\u001b[0m\n\u001b[0;32m     36\u001b[0m                 \u001b[1;31m#saving our traning data\u001b[0m\u001b[1;33m\u001b[0m\u001b[1;33m\u001b[0m\u001b[0m\n\u001b[1;32m---> 37\u001b[1;33m                 \u001b[0mtraining_data\u001b[0m\u001b[1;33m.\u001b[0m\u001b[0mappend\u001b[0m\u001b[1;33m(\u001b[0m\u001b[1;33m[\u001b[0m\u001b[0mdata\u001b[0m\u001b[1;33m[\u001b[0m\u001b[1;36m0\u001b[0m\u001b[1;33m]\u001b[0m\u001b[1;33m,\u001b[0m\u001b[0moutput\u001b[0m\u001b[1;33m]\u001b[0m\u001b[1;33m)\u001b[0m\u001b[1;33m\u001b[0m\u001b[0m\n\u001b[0m\u001b[0;32m     38\u001b[0m         \u001b[0menv\u001b[0m\u001b[1;33m.\u001b[0m\u001b[0mreset\u001b[0m\u001b[1;33m(\u001b[0m\u001b[1;33m)\u001b[0m\u001b[1;33m\u001b[0m\u001b[0m\n\u001b[0;32m     39\u001b[0m         \u001b[1;31m#save all score values of each espiso, also counting value not enough for the requirement\u001b[0m\u001b[1;33m\u001b[0m\u001b[1;33m\u001b[0m\u001b[0m\n",
      "\u001b[1;31mUnboundLocalError\u001b[0m: local variable 'output' referenced before assignment"
     ]
    }
   ],
   "source": [
    "def train_model(training_data, model=False):\n",
    "    #training_data have pype [[4 observation][0,1 or 1,0]]\n",
    "    #[i[0] for i in training_data] mean all element in first place (4 observations)\n",
    "    # X need np.array because training_data has type is list, can't not reshape -->should be convert to numpy.array type\n",
    "    X = np.array([i[0] for i in training_data]).reshape(-1,len(training_data[0][0]),1)#---> X has shape: (totall number,4,1) -->the official shape for training\n",
    "    #[i[0] for i in training_data] mean all elements in the secon place [0,1] or [1,0]\n",
    "    y = [i[1] for i in training_data] #----> [0,1] or [1,0]\n",
    "    #print(X.shape)\n",
    "    #print(y[0])\n",
    "    if not model:\n",
    "        #run neural_network_model\n",
    "        model = neural_network_model(input_size = len(X[0])) #len(X[0])=4\n",
    "    #just run 1 time becasue model.fit can re-run\n",
    "    model.fit({'input': X}, {'targets': y}, n_epoch=3, snapshot_step=500, show_metric=True, run_id='openai_learning')\n",
    "    #n-epoch in simple case don't too high, <=95% accurate\n",
    "    #snapshot_step mean how much step trained will print out the screen\n",
    "    return model\n",
    "training_data = initial_population()\n",
    "model = train_model(training_data)"
   ]
  },
  {
   "cell_type": "code",
   "execution_count": null,
   "metadata": {},
   "outputs": [],
   "source": []
  }
 ],
 "metadata": {
  "kernelspec": {
   "display_name": "Python 3",
   "language": "python",
   "name": "python3"
  },
  "language_info": {
   "codemirror_mode": {
    "name": "ipython",
    "version": 3
   },
   "file_extension": ".py",
   "mimetype": "text/x-python",
   "name": "python",
   "nbconvert_exporter": "python",
   "pygments_lexer": "ipython3",
   "version": "3.6.6"
  }
 },
 "nbformat": 4,
 "nbformat_minor": 2
}
